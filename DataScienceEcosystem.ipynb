{
 "cells": [
  {
   "cell_type": "markdown",
   "id": "37d8c2c4",
   "metadata": {},
   "source": [
    "<h1>Data Science Tools and Ecosystem</h1>"
   ]
  },
  {
   "cell_type": "markdown",
   "id": "ea50c424",
   "metadata": {},
   "source": [
    "<h3>In this notebook, Data Science Tools and Ecosystem are summarized.</h3>"
   ]
  },
  {
   "cell_type": "markdown",
   "id": "25583ff1",
   "metadata": {},
   "source": [
    "<p>Some of the popular languages that Data Scientists use are:</p>\n",
    "<ul>\n",
    "    <li>Python</li>\n",
    "    <li>SQL</li>\n",
    "    <li>R</li>\n",
    "</ul>"
   ]
  },
  {
   "cell_type": "markdown",
   "id": "40141103",
   "metadata": {},
   "source": [
    "<p>Some of the commonly used libraries used by Data Scientists include:<p>\n",
    "<ul>\n",
    "    <li>pandas</li>\n",
    "    <li>scikit-learn</li>\n",
    "    <li>ggplot2</li>\n",
    "</ul>"
   ]
  },
  {
   "cell_type": "markdown",
   "id": "ea07b278",
   "metadata": {},
   "source": [
    "<table>\n",
    "<tr><th>Data Science Tools</th></tr>\n",
    "<tr><td>Jupyter Notebook</td></tr>\n",
    "<tr><td>RStudio</td></tr>\n",
    "<tr><td>Visual Studio Code</td></tr>\n",
    "</table>"
   ]
  },
  {
   "cell_type": "markdown",
   "id": "ef33b88e",
   "metadata": {},
   "source": [
    "<h3>Below are a few examples of evaluating arithmetic expressions in Python.</h3>"
   ]
  },
  {
   "cell_type": "code",
   "execution_count": 11,
   "id": "d77cb41c",
   "metadata": {},
   "outputs": [
    {
     "name": "stdout",
     "output_type": "stream",
     "text": [
      "17\n"
     ]
    }
   ],
   "source": [
    "# This a simple arithmetic expression to mutiply then add integers.\n",
    "x = (3*4)+5\n",
    "print(x)"
   ]
  },
  {
   "cell_type": "code",
   "execution_count": 12,
   "id": "e5a66bd2",
   "metadata": {},
   "outputs": [
    {
     "name": "stdout",
     "output_type": "stream",
     "text": [
      "3.3333333333333335\n"
     ]
    }
   ],
   "source": [
    "# This will convert 200 minutes to hours by diving by 60\n",
    "minutes = 200\n",
    "hours = minutes / 60\n",
    "print(hours)"
   ]
  },
  {
   "cell_type": "markdown",
   "id": "8a448266",
   "metadata": {},
   "source": [
    "**Objectives:**\n",
    "<ul>\n",
    "<li>List popular languages for data science</li>\n",
    "<li>List common libraries used for data science</li>\n",
    "<li>List open source development environment data science tools</li>\n",
    "<li>Give examples of evaluating arithmetic expressions in python</li>\n",
    "</ul>"
   ]
  },
  {
   "cell_type": "markdown",
   "id": "0e9625be",
   "metadata": {},
   "source": [
    "<h2>Author</h2>\n",
    "<p>Victoria Mitchell</p>"
   ]
  }
 ],
 "metadata": {
  "kernelspec": {
   "display_name": "Python 3",
   "language": "python",
   "name": "python3"
  },
  "language_info": {
   "codemirror_mode": {
    "name": "ipython",
    "version": 3
   },
   "file_extension": ".py",
   "mimetype": "text/x-python",
   "name": "python",
   "nbconvert_exporter": "python",
   "pygments_lexer": "ipython3",
   "version": "3.13.2"
  }
 },
 "nbformat": 4,
 "nbformat_minor": 5
}
